{
  "nbformat": 4,
  "nbformat_minor": 0,
  "metadata": {
    "colab": {
      "name": "Untitled4.ipynb",
      "provenance": []
    },
    "kernelspec": {
      "display_name": "Python 3",
      "name": "python3"
    },
    "accelerator": "GPU"
  },
  "cells": [
    {
      "cell_type": "code",
      "metadata": {
        "id": "ASqGSBd939dj"
      },
      "source": [
        "%tensorflow_version 2.x"
      ],
      "execution_count": 1,
      "outputs": []
    },
    {
      "cell_type": "code",
      "metadata": {
        "id": "VzGzQoSn4BHJ"
      },
      "source": [
        "import os\r\n",
        "import skimage.io as io\r\n",
        "import numpy as np\r\n",
        "\r\n",
        "import matplotlib.pyplot as plt\r\n",
        "\r\n",
        "import tensorflow as tf"
      ],
      "execution_count": 2,
      "outputs": []
    },
    {
      "cell_type": "code",
      "metadata": {
        "id": "VAfOI3t-4DP1",
        "colab": {
          "base_uri": "https://localhost:8080/"
        },
        "outputId": "cf974000-4602-43a2-a865-dbf8b2475c91"
      },
      "source": [
        "if 1:\r\n",
        "    !mkdir -p data\r\n",
        "\r\n",
        "    !cd data && wget http://images.cocodataset.org/zips/train2017.zip \r\n",
        "    !cd data && wget http://images.cocodataset.org/zips/val2017.zip \r\n",
        "    !cd data && wget http://images.cocodataset.org/annotations/annotations_trainval2017.zip \r\n",
        "\r\n",
        "    !cd data && unzip -q train2017.zip\r\n",
        "    !cd data && unzip -q val2017.zip\r\n",
        "    !cd data && unzip -q annotations_trainval2017.zip\r\n",
        "\r\n",
        "    !cd data && git clone https://github.com/cocodataset/cocoapi\r\n",
        "    !cd data/cocoapi/PythonAPI && make"
      ],
      "execution_count": null,
      "outputs": [
        {
          "output_type": "stream",
          "text": [
            "--2021-02-12 11:03:03--  http://images.cocodataset.org/zips/train2017.zip\n",
            "Resolving images.cocodataset.org (images.cocodataset.org)... 52.216.145.219\n",
            "Connecting to images.cocodataset.org (images.cocodataset.org)|52.216.145.219|:80... connected.\n",
            "HTTP request sent, awaiting response... 200 OK\n",
            "Length: 19336861798 (18G) [application/zip]\n",
            "Saving to: ‘train2017.zip’\n",
            "\n",
            "train2017.zip       100%[===================>]  18.01G  47.0MB/s    in 7m 34s  \n",
            "\n",
            "2021-02-12 11:10:37 (40.6 MB/s) - ‘train2017.zip’ saved [19336861798/19336861798]\n",
            "\n",
            "--2021-02-12 11:10:41--  http://images.cocodataset.org/zips/val2017.zip\n",
            "Resolving images.cocodataset.org (images.cocodataset.org)... 52.216.204.75\n",
            "Connecting to images.cocodataset.org (images.cocodataset.org)|52.216.204.75|:80... connected.\n",
            "HTTP request sent, awaiting response... 200 OK\n",
            "Length: 815585330 (778M) [application/zip]\n",
            "Saving to: ‘val2017.zip’\n",
            "\n",
            "val2017.zip         100%[===================>] 777.80M  24.5MB/s    in 20s     \n",
            "\n",
            "2021-02-12 11:11:01 (39.1 MB/s) - ‘val2017.zip’ saved [815585330/815585330]\n",
            "\n",
            "--2021-02-12 11:11:01--  http://images.cocodataset.org/annotations/annotations_trainval2017.zip\n",
            "Resolving images.cocodataset.org (images.cocodataset.org)... 52.216.85.163\n",
            "Connecting to images.cocodataset.org (images.cocodataset.org)|52.216.85.163|:80... connected.\n",
            "HTTP request sent, awaiting response... 200 OK\n",
            "Length: 252907541 (241M) [application/zip]\n",
            "Saving to: ‘annotations_trainval2017.zip’\n",
            "\n",
            "annotations_trainva 100%[===================>] 241.19M  49.6MB/s    in 5.3s    \n",
            "\n",
            "2021-02-12 11:11:07 (45.7 MB/s) - ‘annotations_trainval2017.zip’ saved [252907541/252907541]\n",
            "\n"
          ],
          "name": "stdout"
        }
      ]
    },
    {
      "cell_type": "code",
      "metadata": {
        "id": "WE0sZflE4Goi"
      },
      "source": [
        "COCO_ROOT = './data/'\r\n",
        "import sys\r\n",
        "sys.path.insert(0, os.path.join(COCO_ROOT, 'cocoapi/PythonAPI'))\r\n",
        "from pycocotools.coco import COCO"
      ],
      "execution_count": null,
      "outputs": []
    },
    {
      "cell_type": "code",
      "metadata": {
        "id": "8xWN28PRRpwy"
      },
      "source": [
        "class Dataset():\r\n",
        "\r\n",
        "    def crop_images(self, img, inp_size, random_crop=False):\r\n",
        "        shape = tf.shape(img)\r\n",
        "        pad = (\r\n",
        "            [0, tf.maximum(inp_size - shape[0], 0)],\r\n",
        "            [0, tf.maximum(inp_size - shape[1], 0)],\r\n",
        "            [0, 0],\r\n",
        "        )\r\n",
        "        img = tf.pad(img, pad)\r\n",
        "\r\n",
        "        if random_crop:\r\n",
        "            img = tf.image.random_crop(img, (inp_size, inp_size, shape[2]))\r\n",
        "        else: # central crop\r\n",
        "            shape = tf.shape(img)\r\n",
        "            ho = (shape[0] - inp_size) // 2\r\n",
        "            wo = (shape[1] - inp_size) // 2\r\n",
        "            img = img[ho:ho+inp_size, wo:wo+inp_size, :]\r\n",
        "\r\n",
        "        return img\r\n",
        "\r\n",
        "    def train_dataset(self, batch_size, epochs, inp_size):\r\n",
        "\r\n",
        "        def item_to_images(item):\r\n",
        "            random_crop = True\r\n",
        "            img_combined = tf.py_function(self.read_images, [item], tf.uint8)\r\n",
        "            img_combined = self.crop_images(img_combined, inp_size, random_crop)\r\n",
        "\r\n",
        "            img = tf.cast(img_combined[...,:3], tf.float32) / np.float32(255.)\r\n",
        "            mask_class = tf.cast(img_combined[...,3:4], tf.float32)\r\n",
        "            return img, mask_class\r\n",
        "\r\n",
        "        dataset = tf.data.Dataset.from_tensor_slices(self.img_list)\r\n",
        "        dataset = dataset.shuffle(buffer_size=len(self.img_list))\r\n",
        "        dataset = dataset.map(item_to_images)\r\n",
        "        dataset = dataset.repeat(epochs)\r\n",
        "        dataset = dataset.batch(batch_size, drop_remainder=True)\r\n",
        "\r\n",
        "        return dataset\r\n",
        "\r\n",
        "    def val_dataset(self, batch_size, inp_size):\r\n",
        "\r\n",
        "        def item_to_images(item):\r\n",
        "            random_crop = False\r\n",
        "            img_combined = tf.py_function(self.read_images, [item], tf.uint8)\r\n",
        "            img_combined = self.crop_images(img_combined, inp_size, random_crop)\r\n",
        "\r\n",
        "            img = tf.cast(img_combined[...,:3], tf.float32) / np.float32(255.)\r\n",
        "            mask_class = tf.cast(img_combined[...,3:4], tf.float32)\r\n",
        "            return img, mask_class\r\n",
        "\r\n",
        "        dataset = tf.data.Dataset.from_tensor_slices(self.img_list)\r\n",
        "        dataset = dataset.map(item_to_images)\r\n",
        "        dataset = dataset.batch(batch_size, drop_remainder=True)\r\n",
        "\r\n",
        "        return dataset"
      ],
      "execution_count": null,
      "outputs": []
    },
    {
      "cell_type": "code",
      "metadata": {
        "id": "7YkyL5AVRp9n"
      },
      "source": [
        "class COCO_Dataset(Dataset):\r\n",
        "\r\n",
        "    def __init__(self, sublist):\r\n",
        "        ann_file_fpath = os.path.join(COCO_ROOT, 'annotations', 'instances_'+sublist+'2017.json')\r\n",
        "        self.coco = COCO(ann_file_fpath)\r\n",
        "        self.cat_ids = self.coco.getCatIds(catNms=['person'])\r\n",
        "        self.img_list = self.coco.getImgIds(catIds=self.cat_ids)\r\n",
        "        #self.img_list = self.img_list[:300]\r\n",
        "\r\n",
        "    def read_images(self, img_id):\r\n",
        "        img_id = int(img_id.numpy())\r\n",
        "        img_data = self.coco.loadImgs(img_id)[0]\r\n",
        "        img_fname = '/'.join(img_data['coco_url'].split('/')[-2:])\r\n",
        "\r\n",
        "        img = io.imread(os.path.join(COCO_ROOT, img_fname))\r\n",
        "        if len(img.shape) == 2:\r\n",
        "            img = np.tile(img[..., None], (1, 1, 3))\r\n",
        "\r\n",
        "        ann_ids = self.coco.getAnnIds(imgIds=img_data['id'], catIds=self.cat_ids, iscrowd=None)\r\n",
        "        anns = self.coco.loadAnns(ann_ids)\r\n",
        "        mask_class = np.zeros((img.shape[0], img.shape[1]), dtype=np.uint8)\r\n",
        "        for i in range(len(anns)):\r\n",
        "            mask_class += self.coco.annToMask(anns[i])\r\n",
        "        mask_class = (mask_class > 0).astype(np.uint8)\r\n",
        "\r\n",
        "        img_combined = np.concatenate([img, mask_class[..., None]], axis=2)\r\n",
        "\r\n",
        "        return img_combined"
      ],
      "execution_count": null,
      "outputs": []
    },
    {
      "cell_type": "code",
      "metadata": {
        "colab": {
          "background_save": true
        },
        "id": "Og5EFYGk4edj"
      },
      "source": [
        "COCO_dataset_train = COCO_Dataset('train')\r\n",
        "COCO_dataset_val = COCO_Dataset('val')"
      ],
      "execution_count": null,
      "outputs": []
    },
    {
      "cell_type": "code",
      "metadata": {
        "id": "lBnNi1TWv-od"
      },
      "source": [
        "INPUTE_SIZE = 256\r\n",
        "NUM_EPOCHS = 2\r\n",
        "BATCH_SIZE = 4"
      ],
      "execution_count": null,
      "outputs": []
    },
    {
      "cell_type": "code",
      "metadata": {
        "id": "XPrSdReLwAJM"
      },
      "source": [
        "train_ds = COCO_dataset_train.train_dataset(BATCH_SIZE, NUM_EPOCHS, INPUTE_SIZE)\r\n",
        "val_ds = COCO_dataset_val.val_dataset(BATCH_SIZE, INPUTE_SIZE)"
      ],
      "execution_count": null,
      "outputs": []
    },
    {
      "cell_type": "code",
      "metadata": {
        "id": "-5upxINhxSyW"
      },
      "source": [
        "train_ds"
      ],
      "execution_count": null,
      "outputs": []
    },
    {
      "cell_type": "code",
      "metadata": {
        "id": "cYjs3VNGWNks"
      },
      "source": [
        "# U-Net\r\n",
        "def build_model():\r\n",
        "    x = tf.keras.layers.Input((256, 256, 3))\r\n",
        "    \r\n",
        "    out = tf.keras.layers.Conv2D(64, (3, 3), padding='same', activation='relu')(x)\r\n",
        "    out1 = tf.keras.layers.Conv2D(64, (3, 3), padding='same', activation='relu')(out)\r\n",
        "    out = tf.keras.layers.MaxPool2D((2, 2))(out1)\r\n",
        "\r\n",
        "    out = tf.keras.layers.Conv2D(64, (3, 3), padding='same', activation='relu')(out)\r\n",
        "    out2 = tf.keras.layers.Conv2D(128, (3, 3), padding='same', activation='relu')(out)\r\n",
        "    out = tf.keras.layers.MaxPool2D((2, 2))(out2)\r\n",
        "\r\n",
        "    out = tf.keras.layers.Conv2D(256, (3, 3), padding='same', activation='relu')(out)\r\n",
        "    out3 = tf.keras.layers.Conv2D(256, (3, 3), padding='same', activation='relu')(out)\r\n",
        "    out = tf.keras.layers.MaxPool2D((2, 2))(out3)\r\n",
        "\r\n",
        "    out = tf.keras.layers.Conv2D(512, (3, 3), padding='same', activation='relu')(out)\r\n",
        "    out4 = tf.keras.layers.Conv2D(512, (3, 3), padding='same', activation='relu')(out)\r\n",
        "    out = tf.keras.layers.MaxPool2D((2, 2))(out4)\r\n",
        "\r\n",
        "    out = tf.keras.layers.Conv2D(1024, (3, 3), padding='same', activation='relu')(out)\r\n",
        "    out = tf.keras.layers.Conv2D(1024, (3, 3), padding='same', activation='relu')(out)\r\n",
        "\r\n",
        "    out = tf.keras.layers.Conv2DTranspose(512, (3, 3), strides=(2, 2), padding='same', activation='relu')(out)\r\n",
        "    out = tf.concat([out4, out], axis=3)\r\n",
        "\r\n",
        "    out = tf.keras.layers.Conv2D(512, (3, 3), padding='same', activation='relu')(out)\r\n",
        "    out = tf.keras.layers.Conv2D(512, (3, 3), padding='same', activation='relu')(out)\r\n",
        "\r\n",
        "    out = tf.keras.layers.Conv2DTranspose(256, (3, 3), strides=(2, 2), padding='same', activation='relu')(out)\r\n",
        "    out = tf.concat([out3, out], axis=3)\r\n",
        "\r\n",
        "    out = tf.keras.layers.Conv2D(256, (3, 3), padding='same', activation='relu')(out)\r\n",
        "    out = tf.keras.layers.Conv2D(256, (3, 3), padding='same', activation='relu')(out)\r\n",
        "\r\n",
        "    out = tf.keras.layers.Conv2DTranspose(128, (3, 3), strides=(2, 2), padding='same', activation='relu')(out)\r\n",
        "    out = tf.concat([out2, out], axis=3)\r\n",
        "\r\n",
        "    out = tf.keras.layers.Conv2D(128, (3, 3), padding='same', activation='relu')(out)\r\n",
        "    out = tf.keras.layers.Conv2D(128, (3, 3), padding='same', activation='relu')(out)\r\n",
        "\r\n",
        "    out = tf.keras.layers.Conv2DTranspose(64, (3, 3), strides=(2, 2), padding='same', activation='relu')(out)\r\n",
        "    out = tf.concat([out1, out], axis=3)\r\n",
        "\r\n",
        "    out = tf.keras.layers.Conv2D(64, (3, 3), padding='same', activation='relu')(out)\r\n",
        "    out = tf.keras.layers.Conv2D(64, (3, 3), padding='same', activation='relu')(out)\r\n",
        "    out = tf.keras.layers.Conv2D(1, (3, 3), padding='same', activation='sigmoid')(out)\r\n",
        "\r\n",
        "    return tf.keras.Model(inputs=x, outputs=out)\r\n",
        "\r\n",
        "model = build_model()"
      ],
      "execution_count": null,
      "outputs": []
    },
    {
      "cell_type": "code",
      "metadata": {
        "id": "NBRvj51iXk4l"
      },
      "source": [
        "LEARNING_RATE = 0.0001\r\n",
        "\r\n",
        "loss = tf.keras.losses.BinaryCrossentropy()\r\n",
        "model.compile(optimizer='adam', loss=loss, metrics=['accuracy'])"
      ],
      "execution_count": null,
      "outputs": []
    },
    {
      "cell_type": "code",
      "metadata": {
        "id": "29KyOa8H6OLz"
      },
      "source": [
        "callback = EarlyStopping(monitor='accuracy', patience=10, mode='max')"
      ],
      "execution_count": null,
      "outputs": []
    },
    {
      "cell_type": "code",
      "metadata": {
        "id": "H7n2E8AjXuaL"
      },
      "source": [
        "%%time\r\n",
        "\r\n",
        "hist = model.fit(train_ds, \r\n",
        "                 #train_y, \r\n",
        "                 validation_data=(val_ds), \r\n",
        "                 callbacks=[callback]\r\n",
        "                 batch_size=BATCH_SIZE, \r\n",
        "                 epochs=NUM_EPOCHS)\r\n",
        "\r\n",
        "plt.plot(hist.history['loss'])"
      ],
      "execution_count": null,
      "outputs": []
    },
    {
      "cell_type": "code",
      "metadata": {
        "id": "SmXpP-28wrcl"
      },
      "source": [
        "model.evaluate(val_ds)"
      ],
      "execution_count": null,
      "outputs": []
    },
    {
      "cell_type": "code",
      "metadata": {
        "id": "j4vA5oHc3qEb"
      },
      "source": [
        ""
      ],
      "execution_count": null,
      "outputs": []
    }
  ]
}