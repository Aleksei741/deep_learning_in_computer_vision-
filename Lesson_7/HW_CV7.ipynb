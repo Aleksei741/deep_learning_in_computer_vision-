{
  "nbformat": 4,
  "nbformat_minor": 0,
  "metadata": {
    "colab": {
      "name": "7_Video.ipynb",
      "provenance": [],
      "collapsed_sections": [],
      "toc_visible": true
    },
    "language_info": {
      "codemirror_mode": {
        "name": "ipython",
        "version": 3
      },
      "file_extension": ".py",
      "mimetype": "text/x-python",
      "name": "python",
      "nbconvert_exporter": "python",
      "pygments_lexer": "ipython3",
      "version": "3.7.1"
    },
    "kernelspec": {
      "name": "python3",
      "display_name": "Python 3"
    },
    "accelerator": "GPU"
  },
  "cells": [
    {
      "cell_type": "markdown",
      "metadata": {
        "id": "y7c-vhTto-1_"
      },
      "source": [
        "# Обработка видео\n",
        "Классификация действий по видео\n"
      ]
    },
    {
      "cell_type": "markdown",
      "metadata": {
        "id": "JH2ri2mQTU5s"
      },
      "source": [
        "## Переключение версии TensorFlow"
      ]
    },
    {
      "cell_type": "code",
      "metadata": {
        "id": "cqhfvqRrugoS"
      },
      "source": [
        "%tensorflow_version 2.x"
      ],
      "execution_count": 1,
      "outputs": []
    },
    {
      "cell_type": "code",
      "metadata": {
        "id": "iv4yU3Gb4MlY"
      },
      "source": [
        "import os\n",
        "import glob\n",
        "import random\n",
        "import numpy as np\n",
        "import matplotlib.pyplot as plt\n",
        "\n",
        "import tensorflow as tf"
      ],
      "execution_count": 2,
      "outputs": []
    },
    {
      "cell_type": "code",
      "metadata": {
        "id": "rEbPbpjIDV57",
        "colab": {
          "base_uri": "https://localhost:8080/"
        },
        "outputId": "5852e629-93ef-426f-de95-4e9298ae19d0"
      },
      "source": [
        "if 1:\n",
        "    !pip install scikit-video==1.1.11\n",
        "import skvideo.io"
      ],
      "execution_count": 3,
      "outputs": [
        {
          "output_type": "stream",
          "text": [
            "Requirement already satisfied: scikit-video==1.1.11 in /usr/local/lib/python3.7/dist-packages (1.1.11)\n",
            "Requirement already satisfied: pillow in /usr/local/lib/python3.7/dist-packages (from scikit-video==1.1.11) (7.0.0)\n",
            "Requirement already satisfied: scipy in /usr/local/lib/python3.7/dist-packages (from scikit-video==1.1.11) (1.4.1)\n",
            "Requirement already satisfied: numpy in /usr/local/lib/python3.7/dist-packages (from scikit-video==1.1.11) (1.19.5)\n"
          ],
          "name": "stdout"
        }
      ]
    },
    {
      "cell_type": "markdown",
      "metadata": {
        "id": "gshnlHKETjEI"
      },
      "source": [
        "## Загрузка и распаковка датасета KTH"
      ]
    },
    {
      "cell_type": "code",
      "metadata": {
        "id": "oUKrI6l_1CK_"
      },
      "source": [
        "if 0:\n",
        "    !wget http://www.nada.kth.se/cvap/actions/walking.zip\n",
        "    !wget http://www.nada.kth.se/cvap/actions/jogging.zip\n",
        "    !wget http://www.nada.kth.se/cvap/actions/running.zip\n",
        "    !wget http://www.nada.kth.se/cvap/actions/boxing.zip\n",
        "    !wget http://www.nada.kth.se/cvap/actions/handwaving.zip\n",
        "    !wget http://www.nada.kth.se/cvap/actions/handclapping.zip \n",
        "\n",
        "if 0:\n",
        "    !unzip walking.zip -d walking > /dev/null\n",
        "    !unzip jogging.zip -d jogging > /dev/null\n",
        "    !unzip running.zip -d running > /dev/null\n",
        "    !unzip boxing.zip -d boxing > /dev/null\n",
        "    !unzip handwaving.zip -d handwaving > /dev/null\n",
        "    !unzip handclapping.zip -d handclapping > /dev/null"
      ],
      "execution_count": 4,
      "outputs": []
    },
    {
      "cell_type": "markdown",
      "metadata": {
        "id": "z9xxQH9LTsll"
      },
      "source": [
        "## Подготовка датасета для классификации"
      ]
    },
    {
      "cell_type": "code",
      "metadata": {
        "id": "xXx10w4T7JcT",
        "colab": {
          "base_uri": "https://localhost:8080/"
        },
        "outputId": "262a7a3e-c191-43a7-db0f-1028a06351e5"
      },
      "source": [
        "classes = [\n",
        "    'walking',\n",
        "    'jogging',\n",
        "    'running',\n",
        "    'boxing',\n",
        "    'handwaving',\n",
        "    'handclapping',\n",
        "]\n",
        "\n",
        "dataset = []\n",
        "data_root = './'\n",
        "for cls in classes:\n",
        "    print('Processing class: {}'.format(cls))\n",
        "    for fpath in glob.glob(os.path.join(data_root, cls, '*.avi')):\n",
        "        cls_idx = classes.index(cls)\n",
        "        #cls_idx = cls\n",
        "        dataset.append((fpath, cls_idx))"
      ],
      "execution_count": 5,
      "outputs": [
        {
          "output_type": "stream",
          "text": [
            "Processing class: walking\n",
            "Processing class: jogging\n",
            "Processing class: running\n",
            "Processing class: boxing\n",
            "Processing class: handwaving\n",
            "Processing class: handclapping\n"
          ],
          "name": "stdout"
        }
      ]
    },
    {
      "cell_type": "code",
      "metadata": {
        "id": "uEMpKM7F3oqv",
        "colab": {
          "base_uri": "https://localhost:8080/"
        },
        "outputId": "d88fa49f-d91a-4f25-d0a2-12fb866ee84c"
      },
      "source": [
        "random.shuffle(dataset)\n",
        "ds_train = dataset[:200]\n",
        "ds_test = dataset[200:400]\n",
        "\n",
        "print('Dataset train (subset):', len(ds_train))\n",
        "print('Dataset test (subset):', len(ds_test))"
      ],
      "execution_count": 6,
      "outputs": [
        {
          "output_type": "stream",
          "text": [
            "Dataset train (subset): 200\n",
            "Dataset test (subset): 200\n"
          ],
          "name": "stdout"
        }
      ]
    },
    {
      "cell_type": "code",
      "metadata": {
        "id": "Tivo-EcpCnB8"
      },
      "source": [
        ""
      ],
      "execution_count": 6,
      "outputs": []
    },
    {
      "cell_type": "markdown",
      "metadata": {
        "id": "xKecX592UCxv"
      },
      "source": [
        "## Визуализация кадра из видео"
      ]
    },
    {
      "cell_type": "code",
      "metadata": {
        "id": "SDRvDuY5VEKT",
        "colab": {
          "base_uri": "https://localhost:8080/",
          "height": 305
        },
        "outputId": "7bd99dfe-384a-46bd-9508-4a44c5205648"
      },
      "source": [
        "videodata = skvideo.io.vread(dataset[0][0])\n",
        "videodata = videodata.astype(np.float32) / 255.\n",
        "print('videodata shape:', videodata.shape)\n",
        "plt.imshow(videodata[50, ...])"
      ],
      "execution_count": 7,
      "outputs": [
        {
          "output_type": "stream",
          "text": [
            "videodata shape: (490, 120, 160, 3)\n"
          ],
          "name": "stdout"
        },
        {
          "output_type": "execute_result",
          "data": {
            "text/plain": [
              "<matplotlib.image.AxesImage at 0x7fabe5ae1650>"
            ]
          },
          "metadata": {
            "tags": []
          },
          "execution_count": 7
        },
        {
          "output_type": "display_data",
          "data": {
            "image/png": "[encoded data removed]",
            "text/plain": [
              "<Figure size 432x288 with 1 Axes>"
            ]
          },
          "metadata": {
            "tags": [],
            "needs_background": "light"
          }
        }
      ]
    },
    {
      "cell_type": "markdown",
      "metadata": {
        "id": "ZvDqIgDKUHfj"
      },
      "source": [
        "## Визуализация \"движения\""
      ]
    },
    {
      "cell_type": "code",
      "metadata": {
        "id": "n3y0fPuExC_q",
        "colab": {
          "base_uri": "https://localhost:8080/",
          "height": 305
        },
        "outputId": "af2ede00-93c0-4db2-be30-4d42419684fe"
      },
      "source": [
        "motion = np.mean(videodata[1:, ...] - videodata[:-1, ...], axis=3, keepdims=True)\n",
        "print('motion shape:', motion.shape)\n",
        "plt.imshow(motion[50, ..., 0])"
      ],
      "execution_count": 8,
      "outputs": [
        {
          "output_type": "stream",
          "text": [
            "motion shape: (489, 120, 160, 1)\n"
          ],
          "name": "stdout"
        },
        {
          "output_type": "execute_result",
          "data": {
            "text/plain": [
              "<matplotlib.image.AxesImage at 0x7fabe55c8550>"
            ]
          },
          "metadata": {
            "tags": []
          },
          "execution_count": 8
        },
        {
          "output_type": "display_data",
          "data": {
            "image/png": "[encoded data removed]",
            "text/plain": [
              "<Figure size 432x288 with 1 Axes>"
            ]
          },
          "metadata": {
            "tags": [],
            "needs_background": "light"
          }
        }
      ]
    },
    {
      "cell_type": "markdown",
      "metadata": {
        "id": "WMuN7QibUPJa"
      },
      "source": [
        "## Создание модели CNN"
      ]
    },
    {
      "cell_type": "code",
      "metadata": {
        "id": "-IbbBxRa3ue4"
      },
      "source": [
        "model = tf.keras.Sequential([\n",
        "    tf.keras.layers.Conv3D(32, (5, 5, 5), (1, 2, 2), padding='same', activation='relu'),\n",
        "    tf.keras.layers.MaxPool3D((1, 2, 2), padding='same'),\n",
        "    tf.keras.layers.Conv3D(64, (5, 5, 5), (1, 2, 2), padding='same', activation='relu'),\n",
        "    tf.keras.layers.MaxPool3D((1, 2, 2), padding='same'),\n",
        "    tf.keras.layers.Conv3D(64, (3, 3, 3), (1, 2, 2), padding='same', activation='relu'),\n",
        "    tf.keras.layers.MaxPool3D((1, 2, 2), padding='same'),\n",
        "    tf.keras.layers.Conv3D(64, (3, 3, 3), (1, 1, 1), padding='same', activation=None),\n",
        "    tf.keras.layers.GlobalAveragePooling3D(),\n",
        "    tf.keras.layers.Dense(64, activation='relu'),\n",
        "    tf.keras.layers.Dense(6, activation=None),\n",
        "])"
      ],
      "execution_count": 9,
      "outputs": []
    },
    {
      "cell_type": "code",
      "metadata": {
        "id": "95lu1m362UNj",
        "colab": {
          "base_uri": "https://localhost:8080/"
        },
        "outputId": "670b7961-37ed-4a9f-e1c8-1a2da04cff44"
      },
      "source": [
        "inp = motion[None, ...]\n",
        "out = model(inp)\n",
        "\n",
        "print('Input shape:', inp.shape)\n",
        "print('Output shape:', out.shape)"
      ],
      "execution_count": 10,
      "outputs": [
        {
          "output_type": "stream",
          "text": [
            "Input shape: (1, 489, 120, 160, 1)\n",
            "Output shape: (1, 6)\n"
          ],
          "name": "stdout"
        }
      ]
    },
    {
      "cell_type": "markdown",
      "metadata": {
        "id": "KRR7KDG_UTqW"
      },
      "source": [
        "## Подготовка к обучению"
      ]
    },
    {
      "cell_type": "code",
      "metadata": {
        "id": "R_IRN1KLu8YC"
      },
      "source": [
        "NUM_EPOCHS = 10\n",
        "LEARNING_RATE = 0.001\n",
        "BATCH_SIZE = 4\n",
        "\n",
        "#model.compile(\n",
        "    #loss=tf.keras.losses.SparseCategoricalCrossentropy(from_logits=True), \n",
        "#    optimizer=tf.keras.optimizers.Adam(LEARNING_RATE))\n",
        "\n",
        "loss=tf.keras.losses.SparseCategoricalCrossentropy(from_logits=True)\n",
        "optimizer=tf.keras.optimizers.Adam(LEARNING_RATE)\n",
        "\n",
        "writer = tf.summary.create_file_writer('logs/exp1')"
      ],
      "execution_count": 11,
      "outputs": []
    },
    {
      "cell_type": "markdown",
      "metadata": {
        "id": "vdXWGrAMUYiK"
      },
      "source": [
        "## Цикл обучения модели"
      ]
    },
    {
      "cell_type": "code",
      "metadata": {
        "id": "MTC9HJo0NNQN"
      },
      "source": [
        "def prepare_video(fpath, label):\r\n",
        "    videodata = skvideo.io.vread(fpath)\r\n",
        "    videodata = videodata.astype(np.float32) / 255.\r\n",
        "    motion = np.mean(videodata[1:, ...] - videodata[:-1, ...], axis=3, keepdims=True)\r\n",
        "    x = motion[None, ...]\r\n",
        "    y = np.array(label)[None, ...]\r\n",
        "    return x, y"
      ],
      "execution_count": 12,
      "outputs": []
    },
    {
      "cell_type": "code",
      "metadata": {
        "id": "D9oDlO9TYNBe",
        "colab": {
          "base_uri": "https://localhost:8080/"
        },
        "outputId": "9cf62cea-7c21-47d7-df5a-d13d61832361"
      },
      "source": [
        "global_step = 0\n",
        "for ep in range(NUM_EPOCHS):\n",
        "    # for iter, (fpath, label) in enumerate(dataset):\n",
        "    for iter in range(len(ds_train)): \n",
        "        (fpath, label) = ds_train[iter]\n",
        "        train_x, train_y = prepare_video(fpath, label)\n",
        "        (fpath, label) = ds_test[iter]\n",
        "        test_x, test_y = prepare_video(fpath, label)\n",
        "\n",
        "        # Forward\n",
        "        with tf.GradientTape() as tape:\n",
        "            embs = model(train_x)\n",
        "            loss_value = loss(train_y ,embs)\n",
        "            \n",
        "        # Backward\n",
        "        grads = tape.gradient(loss_value, model.variables)\n",
        "        optimizer.apply_gradients(zip(grads, model.variables))\n",
        "\n",
        "        pred = model(test_x)\n",
        "        loss_value_test = loss(test_y ,embs)\n",
        "\n",
        "        #loss_value = model.train_on_batch(x, y)\n",
        "\n",
        "        if iter % 10 == 0:\n",
        "            print(f'[{ep:2.0f}/{NUM_EPOCHS}][{iter:3.0f}/{len(ds_train)}] Loss_train = {loss_value:2.4f} | Loss_test = {loss_value_test:2.4f}')\n",
        "\n",
        "            with writer.as_default():\n",
        "                tf.summary.scalar('Loss_train', loss_value, global_step)\n",
        "                tf.summary.scalar('Loss_test', loss_value_test, global_step)\n",
        "\n",
        "        global_step += 1"
      ],
      "execution_count": null,
      "outputs": [
        {
          "output_type": "stream",
          "text": [
            "[ 0/10][  0/200] Loss_train = 1.7926 | Loss_test = 1.7927\n",
            "[ 0/10][ 10/200] Loss_train = 1.8467 | Loss_test = 1.7143\n",
            "[ 0/10][ 20/200] Loss_train = 1.8255 | Loss_test = 1.8050\n",
            "[ 0/10][ 30/200] Loss_train = 1.7884 | Loss_test = 1.8055\n",
            "[ 0/10][ 40/200] Loss_train = 1.7596 | Loss_test = 1.7880\n",
            "[ 0/10][ 50/200] Loss_train = 1.8241 | Loss_test = 1.8241\n",
            "[ 0/10][ 60/200] Loss_train = 1.8325 | Loss_test = 1.8325\n",
            "[ 0/10][ 70/200] Loss_train = 1.8264 | Loss_test = 1.8261\n",
            "[ 0/10][ 80/200] Loss_train = 1.7293 | Loss_test = 1.7867\n",
            "[ 0/10][ 90/200] Loss_train = 1.7132 | Loss_test = 1.8130\n",
            "[ 0/10][100/200] Loss_train = 1.8619 | Loss_test = 1.7507\n"
          ],
          "name": "stdout"
        }
      ]
    },
    {
      "cell_type": "markdown",
      "metadata": {
        "id": "fsq2P31vUck6"
      },
      "source": [
        "## TensorBoard"
      ]
    },
    {
      "cell_type": "code",
      "metadata": {
        "id": "s0314NhOrkik"
      },
      "source": [
        "%load_ext tensorboard\n",
        "%tensorboard --logdir logs"
      ],
      "execution_count": null,
      "outputs": []
    },
    {
      "cell_type": "markdown",
      "metadata": {
        "id": "e2b00AJ_Uewn"
      },
      "source": [
        "## Тестирование обученной модели"
      ]
    },
    {
      "cell_type": "code",
      "metadata": {
        "id": "K9vCpQooqPbz"
      },
      "source": [
        "fpath, cls_true = random.choice(ds_test)\n",
        "\n",
        "videodata = skvideo.io.vread(fpath)\n",
        "videodata = videodata.astype(np.float32) / 255.\n",
        "plt.imshow(videodata[30, ...])\n",
        "\n",
        "motion = np.mean(videodata[1:, ...] - videodata[:-1, ...], axis=3, keepdims=True)\n",
        "\n",
        "out = model(motion[None, ...])[0]\n",
        "cls_pred = np.argmax(out.numpy())\n",
        "\n",
        "print('True class:', classes[cls_true])\n",
        "print('Predicted class:', classes[cls_pred])"
      ],
      "execution_count": null,
      "outputs": []
    },
    {
      "cell_type": "code",
      "metadata": {
        "id": "NbveCKhEtKLK"
      },
      "source": [
        ""
      ],
      "execution_count": null,
      "outputs": []
    }
  ]
}